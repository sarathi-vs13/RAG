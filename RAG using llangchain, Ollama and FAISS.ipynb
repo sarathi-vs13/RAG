{
 "cells": [
  {
   "cell_type": "code",
   "execution_count": 1,
   "id": "c88b069b-888e-4d8a-b457-bf4807ab6a0a",
   "metadata": {
    "scrolled": true
   },
   "outputs": [
    {
     "name": "stdout",
     "output_type": "stream",
     "text": [
      "Defaulting to user installation because normal site-packages is not writeable\n",
      "Requirement already satisfied: langchain in c:\\users\\visarati\\appdata\\roaming\\python\\python313\\site-packages (0.3.27)\n",
      "Requirement already satisfied: faiss-cpu in c:\\users\\visarati\\appdata\\roaming\\python\\python313\\site-packages (1.12.0)\n",
      "Requirement already satisfied: sentence-transformers in c:\\users\\visarati\\appdata\\roaming\\python\\python313\\site-packages (5.1.1)\n",
      "Requirement already satisfied: PyPDF2 in c:\\users\\visarati\\appdata\\roaming\\python\\python313\\site-packages (3.0.1)\n",
      "Requirement already satisfied: langchain-core<1.0.0,>=0.3.72 in c:\\users\\visarati\\appdata\\roaming\\python\\python313\\site-packages (from langchain) (0.3.76)\n",
      "Requirement already satisfied: langchain-text-splitters<1.0.0,>=0.3.9 in c:\\users\\visarati\\appdata\\roaming\\python\\python313\\site-packages (from langchain) (0.3.11)\n",
      "Requirement already satisfied: langsmith>=0.1.17 in c:\\users\\visarati\\appdata\\roaming\\python\\python313\\site-packages (from langchain) (0.4.31)\n",
      "Requirement already satisfied: pydantic<3.0.0,>=2.7.4 in c:\\users\\visarati\\appdata\\roaming\\python\\python313\\site-packages (from langchain) (2.11.9)\n",
      "Requirement already satisfied: SQLAlchemy<3,>=1.4 in c:\\users\\visarati\\appdata\\roaming\\python\\python313\\site-packages (from langchain) (2.0.43)\n",
      "Requirement already satisfied: requests<3,>=2 in c:\\users\\visarati\\appdata\\roaming\\python\\python313\\site-packages (from langchain) (2.32.5)\n",
      "Requirement already satisfied: PyYAML>=5.3 in c:\\users\\visarati\\appdata\\roaming\\python\\python313\\site-packages (from langchain) (6.0.2)\n",
      "Requirement already satisfied: tenacity!=8.4.0,<10.0.0,>=8.1.0 in c:\\users\\visarati\\appdata\\roaming\\python\\python313\\site-packages (from langchain-core<1.0.0,>=0.3.72->langchain) (9.1.2)\n",
      "Requirement already satisfied: jsonpatch<2.0,>=1.33 in c:\\users\\visarati\\appdata\\roaming\\python\\python313\\site-packages (from langchain-core<1.0.0,>=0.3.72->langchain) (1.33)\n",
      "Requirement already satisfied: typing-extensions>=4.7 in c:\\users\\visarati\\appdata\\roaming\\python\\python313\\site-packages (from langchain-core<1.0.0,>=0.3.72->langchain) (4.13.2)\n",
      "Requirement already satisfied: packaging>=23.2 in c:\\users\\visarati\\appdata\\roaming\\python\\python313\\site-packages (from langchain-core<1.0.0,>=0.3.72->langchain) (25.0)\n",
      "Requirement already satisfied: jsonpointer>=1.9 in c:\\users\\visarati\\appdata\\roaming\\python\\python313\\site-packages (from jsonpatch<2.0,>=1.33->langchain-core<1.0.0,>=0.3.72->langchain) (3.0.0)\n",
      "Requirement already satisfied: annotated-types>=0.6.0 in c:\\users\\visarati\\appdata\\roaming\\python\\python313\\site-packages (from pydantic<3.0.0,>=2.7.4->langchain) (0.7.0)\n",
      "Requirement already satisfied: pydantic-core==2.33.2 in c:\\users\\visarati\\appdata\\roaming\\python\\python313\\site-packages (from pydantic<3.0.0,>=2.7.4->langchain) (2.33.2)\n",
      "Requirement already satisfied: typing-inspection>=0.4.0 in c:\\users\\visarati\\appdata\\roaming\\python\\python313\\site-packages (from pydantic<3.0.0,>=2.7.4->langchain) (0.4.1)\n",
      "Requirement already satisfied: charset_normalizer<4,>=2 in c:\\users\\visarati\\appdata\\roaming\\python\\python313\\site-packages (from requests<3,>=2->langchain) (3.4.2)\n",
      "Requirement already satisfied: idna<4,>=2.5 in c:\\users\\visarati\\appdata\\roaming\\python\\python313\\site-packages (from requests<3,>=2->langchain) (3.10)\n",
      "Requirement already satisfied: urllib3<3,>=1.21.1 in c:\\users\\visarati\\appdata\\roaming\\python\\python313\\site-packages (from requests<3,>=2->langchain) (2.4.0)\n",
      "Requirement already satisfied: certifi>=2017.4.17 in c:\\users\\visarati\\appdata\\roaming\\python\\python313\\site-packages (from requests<3,>=2->langchain) (2025.4.26)\n",
      "Requirement already satisfied: greenlet>=1 in c:\\users\\visarati\\appdata\\roaming\\python\\python313\\site-packages (from SQLAlchemy<3,>=1.4->langchain) (3.2.4)\n",
      "Requirement already satisfied: numpy<3.0,>=1.25.0 in c:\\users\\visarati\\appdata\\roaming\\python\\python313\\site-packages (from faiss-cpu) (2.2.6)\n",
      "Requirement already satisfied: transformers<5.0.0,>=4.41.0 in c:\\users\\visarati\\appdata\\roaming\\python\\python313\\site-packages (from sentence-transformers) (4.56.0)\n",
      "Requirement already satisfied: tqdm in c:\\users\\visarati\\appdata\\roaming\\python\\python313\\site-packages (from sentence-transformers) (4.67.1)\n",
      "Requirement already satisfied: torch>=1.11.0 in c:\\users\\visarati\\appdata\\roaming\\python\\python313\\site-packages (from sentence-transformers) (2.8.0)\n",
      "Requirement already satisfied: scikit-learn in c:\\users\\visarati\\appdata\\roaming\\python\\python313\\site-packages (from sentence-transformers) (1.7.2)\n",
      "Requirement already satisfied: scipy in c:\\users\\visarati\\appdata\\roaming\\python\\python313\\site-packages (from sentence-transformers) (1.16.2)\n",
      "Requirement already satisfied: huggingface-hub>=0.20.0 in c:\\users\\visarati\\appdata\\roaming\\python\\python313\\site-packages (from sentence-transformers) (0.34.4)\n",
      "Requirement already satisfied: Pillow in c:\\users\\visarati\\appdata\\roaming\\python\\python313\\site-packages (from sentence-transformers) (11.3.0)\n",
      "Requirement already satisfied: filelock in c:\\users\\visarati\\appdata\\roaming\\python\\python313\\site-packages (from transformers<5.0.0,>=4.41.0->sentence-transformers) (3.18.0)\n",
      "Requirement already satisfied: regex!=2019.12.17 in c:\\users\\visarati\\appdata\\roaming\\python\\python313\\site-packages (from transformers<5.0.0,>=4.41.0->sentence-transformers) (2025.9.1)\n",
      "Requirement already satisfied: tokenizers<=0.23.0,>=0.22.0 in c:\\users\\visarati\\appdata\\roaming\\python\\python313\\site-packages (from transformers<5.0.0,>=4.41.0->sentence-transformers) (0.22.0)\n",
      "Requirement already satisfied: safetensors>=0.4.3 in c:\\users\\visarati\\appdata\\roaming\\python\\python313\\site-packages (from transformers<5.0.0,>=4.41.0->sentence-transformers) (0.6.2)\n",
      "Requirement already satisfied: fsspec>=2023.5.0 in c:\\users\\visarati\\appdata\\roaming\\python\\python313\\site-packages (from huggingface-hub>=0.20.0->sentence-transformers) (2025.3.0)\n",
      "Requirement already satisfied: httpx<1,>=0.23.0 in c:\\users\\visarati\\appdata\\roaming\\python\\python313\\site-packages (from langsmith>=0.1.17->langchain) (0.28.1)\n",
      "Requirement already satisfied: orjson>=3.9.14 in c:\\users\\visarati\\appdata\\roaming\\python\\python313\\site-packages (from langsmith>=0.1.17->langchain) (3.11.3)\n",
      "Requirement already satisfied: requests-toolbelt>=1.0.0 in c:\\users\\visarati\\appdata\\roaming\\python\\python313\\site-packages (from langsmith>=0.1.17->langchain) (1.0.0)\n",
      "Requirement already satisfied: zstandard>=0.23.0 in c:\\users\\visarati\\appdata\\roaming\\python\\python313\\site-packages (from langsmith>=0.1.17->langchain) (0.25.0)\n",
      "Requirement already satisfied: anyio in c:\\users\\visarati\\appdata\\roaming\\python\\python313\\site-packages (from httpx<1,>=0.23.0->langsmith>=0.1.17->langchain) (4.9.0)\n",
      "Requirement already satisfied: httpcore==1.* in c:\\users\\visarati\\appdata\\roaming\\python\\python313\\site-packages (from httpx<1,>=0.23.0->langsmith>=0.1.17->langchain) (1.0.9)\n",
      "Requirement already satisfied: h11>=0.16 in c:\\users\\visarati\\appdata\\roaming\\python\\python313\\site-packages (from httpcore==1.*->httpx<1,>=0.23.0->langsmith>=0.1.17->langchain) (0.16.0)\n",
      "Requirement already satisfied: sympy>=1.13.3 in c:\\users\\visarati\\appdata\\roaming\\python\\python313\\site-packages (from torch>=1.11.0->sentence-transformers) (1.14.0)\n",
      "Requirement already satisfied: networkx in c:\\users\\visarati\\appdata\\roaming\\python\\python313\\site-packages (from torch>=1.11.0->sentence-transformers) (3.5)\n",
      "Requirement already satisfied: jinja2 in c:\\users\\visarati\\appdata\\roaming\\python\\python313\\site-packages (from torch>=1.11.0->sentence-transformers) (3.1.6)\n",
      "Requirement already satisfied: setuptools in c:\\users\\visarati\\appdata\\roaming\\python\\python313\\site-packages (from torch>=1.11.0->sentence-transformers) (80.4.0)\n",
      "Requirement already satisfied: mpmath<1.4,>=1.1.0 in c:\\users\\visarati\\appdata\\roaming\\python\\python313\\site-packages (from sympy>=1.13.3->torch>=1.11.0->sentence-transformers) (1.3.0)\n",
      "Requirement already satisfied: colorama in c:\\users\\visarati\\appdata\\roaming\\python\\python313\\site-packages (from tqdm->sentence-transformers) (0.4.6)\n",
      "Requirement already satisfied: sniffio>=1.1 in c:\\users\\visarati\\appdata\\roaming\\python\\python313\\site-packages (from anyio->httpx<1,>=0.23.0->langsmith>=0.1.17->langchain) (1.3.1)\n",
      "Requirement already satisfied: MarkupSafe>=2.0 in c:\\users\\visarati\\appdata\\roaming\\python\\python313\\site-packages (from jinja2->torch>=1.11.0->sentence-transformers) (3.0.2)\n",
      "Requirement already satisfied: joblib>=1.2.0 in c:\\users\\visarati\\appdata\\roaming\\python\\python313\\site-packages (from scikit-learn->sentence-transformers) (1.5.2)\n",
      "Requirement already satisfied: threadpoolctl>=3.1.0 in c:\\users\\visarati\\appdata\\roaming\\python\\python313\\site-packages (from scikit-learn->sentence-transformers) (3.6.0)\n"
     ]
    }
   ],
   "source": [
    "!pip install langchain faiss-cpu sentence-transformers PyPDF2"
   ]
  },
  {
   "cell_type": "code",
   "execution_count": 2,
   "id": "0af5aa34-b987-42c7-903d-f1a3d0293e1f",
   "metadata": {},
   "outputs": [
    {
     "name": "stdout",
     "output_type": "stream",
     "text": [
      "Defaulting to user installation because normal site-packages is not writeable\n",
      "Requirement already satisfied: pypdf in c:\\users\\visarati\\appdata\\roaming\\python\\python313\\site-packages (6.1.0)\n",
      "Note: you may need to restart the kernel to use updated packages.\n"
     ]
    }
   ],
   "source": [
    "pip install pypdf"
   ]
  },
  {
   "cell_type": "code",
   "execution_count": 3,
   "id": "0dcd0c52-8eeb-482b-9b70-1cddc69a8fe7",
   "metadata": {},
   "outputs": [
    {
     "name": "stdout",
     "output_type": "stream",
     "text": [
      "Defaulting to user installation because normal site-packages is not writeable\n",
      "Requirement already satisfied: langchain-community in c:\\users\\visarati\\appdata\\roaming\\python\\python313\\site-packages (0.3.30)\n",
      "Requirement already satisfied: langchain-core<2.0.0,>=0.3.75 in c:\\users\\visarati\\appdata\\roaming\\python\\python313\\site-packages (from langchain-community) (0.3.76)\n",
      "Requirement already satisfied: langchain<2.0.0,>=0.3.27 in c:\\users\\visarati\\appdata\\roaming\\python\\python313\\site-packages (from langchain-community) (0.3.27)\n",
      "Requirement already satisfied: SQLAlchemy<3.0.0,>=1.4.0 in c:\\users\\visarati\\appdata\\roaming\\python\\python313\\site-packages (from langchain-community) (2.0.43)\n",
      "Requirement already satisfied: requests<3.0.0,>=2.32.5 in c:\\users\\visarati\\appdata\\roaming\\python\\python313\\site-packages (from langchain-community) (2.32.5)\n",
      "Requirement already satisfied: PyYAML<7.0.0,>=5.3.0 in c:\\users\\visarati\\appdata\\roaming\\python\\python313\\site-packages (from langchain-community) (6.0.2)\n",
      "Requirement already satisfied: aiohttp<4.0.0,>=3.8.3 in c:\\users\\visarati\\appdata\\roaming\\python\\python313\\site-packages (from langchain-community) (3.12.15)\n",
      "Requirement already satisfied: tenacity!=8.4.0,<10.0.0,>=8.1.0 in c:\\users\\visarati\\appdata\\roaming\\python\\python313\\site-packages (from langchain-community) (9.1.2)\n",
      "Requirement already satisfied: dataclasses-json<0.7.0,>=0.6.7 in c:\\users\\visarati\\appdata\\roaming\\python\\python313\\site-packages (from langchain-community) (0.6.7)\n",
      "Requirement already satisfied: pydantic-settings<3.0.0,>=2.10.1 in c:\\users\\visarati\\appdata\\roaming\\python\\python313\\site-packages (from langchain-community) (2.11.0)\n",
      "Requirement already satisfied: langsmith<1.0.0,>=0.1.125 in c:\\users\\visarati\\appdata\\roaming\\python\\python313\\site-packages (from langchain-community) (0.4.31)\n",
      "Requirement already satisfied: httpx-sse<1.0.0,>=0.4.0 in c:\\users\\visarati\\appdata\\roaming\\python\\python313\\site-packages (from langchain-community) (0.4.1)\n",
      "Requirement already satisfied: numpy>=2.1.0 in c:\\users\\visarati\\appdata\\roaming\\python\\python313\\site-packages (from langchain-community) (2.2.6)\n",
      "Requirement already satisfied: aiohappyeyeballs>=2.5.0 in c:\\users\\visarati\\appdata\\roaming\\python\\python313\\site-packages (from aiohttp<4.0.0,>=3.8.3->langchain-community) (2.6.1)\n",
      "Requirement already satisfied: aiosignal>=1.4.0 in c:\\users\\visarati\\appdata\\roaming\\python\\python313\\site-packages (from aiohttp<4.0.0,>=3.8.3->langchain-community) (1.4.0)\n",
      "Requirement already satisfied: attrs>=17.3.0 in c:\\users\\visarati\\appdata\\roaming\\python\\python313\\site-packages (from aiohttp<4.0.0,>=3.8.3->langchain-community) (25.3.0)\n",
      "Requirement already satisfied: frozenlist>=1.1.1 in c:\\users\\visarati\\appdata\\roaming\\python\\python313\\site-packages (from aiohttp<4.0.0,>=3.8.3->langchain-community) (1.7.0)\n",
      "Requirement already satisfied: multidict<7.0,>=4.5 in c:\\users\\visarati\\appdata\\roaming\\python\\python313\\site-packages (from aiohttp<4.0.0,>=3.8.3->langchain-community) (6.6.4)\n",
      "Requirement already satisfied: propcache>=0.2.0 in c:\\users\\visarati\\appdata\\roaming\\python\\python313\\site-packages (from aiohttp<4.0.0,>=3.8.3->langchain-community) (0.3.2)\n",
      "Requirement already satisfied: yarl<2.0,>=1.17.0 in c:\\users\\visarati\\appdata\\roaming\\python\\python313\\site-packages (from aiohttp<4.0.0,>=3.8.3->langchain-community) (1.20.1)\n",
      "Requirement already satisfied: marshmallow<4.0.0,>=3.18.0 in c:\\users\\visarati\\appdata\\roaming\\python\\python313\\site-packages (from dataclasses-json<0.7.0,>=0.6.7->langchain-community) (3.26.1)\n",
      "Requirement already satisfied: typing-inspect<1,>=0.4.0 in c:\\users\\visarati\\appdata\\roaming\\python\\python313\\site-packages (from dataclasses-json<0.7.0,>=0.6.7->langchain-community) (0.9.0)\n",
      "Requirement already satisfied: langchain-text-splitters<1.0.0,>=0.3.9 in c:\\users\\visarati\\appdata\\roaming\\python\\python313\\site-packages (from langchain<2.0.0,>=0.3.27->langchain-community) (0.3.11)\n",
      "Requirement already satisfied: pydantic<3.0.0,>=2.7.4 in c:\\users\\visarati\\appdata\\roaming\\python\\python313\\site-packages (from langchain<2.0.0,>=0.3.27->langchain-community) (2.11.9)\n",
      "Requirement already satisfied: jsonpatch<2.0,>=1.33 in c:\\users\\visarati\\appdata\\roaming\\python\\python313\\site-packages (from langchain-core<2.0.0,>=0.3.75->langchain-community) (1.33)\n",
      "Requirement already satisfied: typing-extensions>=4.7 in c:\\users\\visarati\\appdata\\roaming\\python\\python313\\site-packages (from langchain-core<2.0.0,>=0.3.75->langchain-community) (4.13.2)\n",
      "Requirement already satisfied: packaging>=23.2 in c:\\users\\visarati\\appdata\\roaming\\python\\python313\\site-packages (from langchain-core<2.0.0,>=0.3.75->langchain-community) (25.0)\n",
      "Requirement already satisfied: jsonpointer>=1.9 in c:\\users\\visarati\\appdata\\roaming\\python\\python313\\site-packages (from jsonpatch<2.0,>=1.33->langchain-core<2.0.0,>=0.3.75->langchain-community) (3.0.0)\n",
      "Requirement already satisfied: httpx<1,>=0.23.0 in c:\\users\\visarati\\appdata\\roaming\\python\\python313\\site-packages (from langsmith<1.0.0,>=0.1.125->langchain-community) (0.28.1)\n",
      "Requirement already satisfied: orjson>=3.9.14 in c:\\users\\visarati\\appdata\\roaming\\python\\python313\\site-packages (from langsmith<1.0.0,>=0.1.125->langchain-community) (3.11.3)\n",
      "Requirement already satisfied: requests-toolbelt>=1.0.0 in c:\\users\\visarati\\appdata\\roaming\\python\\python313\\site-packages (from langsmith<1.0.0,>=0.1.125->langchain-community) (1.0.0)\n",
      "Requirement already satisfied: zstandard>=0.23.0 in c:\\users\\visarati\\appdata\\roaming\\python\\python313\\site-packages (from langsmith<1.0.0,>=0.1.125->langchain-community) (0.25.0)\n",
      "Requirement already satisfied: anyio in c:\\users\\visarati\\appdata\\roaming\\python\\python313\\site-packages (from httpx<1,>=0.23.0->langsmith<1.0.0,>=0.1.125->langchain-community) (4.9.0)\n",
      "Requirement already satisfied: certifi in c:\\users\\visarati\\appdata\\roaming\\python\\python313\\site-packages (from httpx<1,>=0.23.0->langsmith<1.0.0,>=0.1.125->langchain-community) (2025.4.26)\n",
      "Requirement already satisfied: httpcore==1.* in c:\\users\\visarati\\appdata\\roaming\\python\\python313\\site-packages (from httpx<1,>=0.23.0->langsmith<1.0.0,>=0.1.125->langchain-community) (1.0.9)\n",
      "Requirement already satisfied: idna in c:\\users\\visarati\\appdata\\roaming\\python\\python313\\site-packages (from httpx<1,>=0.23.0->langsmith<1.0.0,>=0.1.125->langchain-community) (3.10)\n",
      "Requirement already satisfied: h11>=0.16 in c:\\users\\visarati\\appdata\\roaming\\python\\python313\\site-packages (from httpcore==1.*->httpx<1,>=0.23.0->langsmith<1.0.0,>=0.1.125->langchain-community) (0.16.0)\n",
      "Requirement already satisfied: annotated-types>=0.6.0 in c:\\users\\visarati\\appdata\\roaming\\python\\python313\\site-packages (from pydantic<3.0.0,>=2.7.4->langchain<2.0.0,>=0.3.27->langchain-community) (0.7.0)\n",
      "Requirement already satisfied: pydantic-core==2.33.2 in c:\\users\\visarati\\appdata\\roaming\\python\\python313\\site-packages (from pydantic<3.0.0,>=2.7.4->langchain<2.0.0,>=0.3.27->langchain-community) (2.33.2)\n",
      "Requirement already satisfied: typing-inspection>=0.4.0 in c:\\users\\visarati\\appdata\\roaming\\python\\python313\\site-packages (from pydantic<3.0.0,>=2.7.4->langchain<2.0.0,>=0.3.27->langchain-community) (0.4.1)\n",
      "Requirement already satisfied: python-dotenv>=0.21.0 in c:\\users\\visarati\\appdata\\roaming\\python\\python313\\site-packages (from pydantic-settings<3.0.0,>=2.10.1->langchain-community) (1.1.1)\n",
      "Requirement already satisfied: charset_normalizer<4,>=2 in c:\\users\\visarati\\appdata\\roaming\\python\\python313\\site-packages (from requests<3.0.0,>=2.32.5->langchain-community) (3.4.2)\n",
      "Requirement already satisfied: urllib3<3,>=1.21.1 in c:\\users\\visarati\\appdata\\roaming\\python\\python313\\site-packages (from requests<3.0.0,>=2.32.5->langchain-community) (2.4.0)\n",
      "Requirement already satisfied: greenlet>=1 in c:\\users\\visarati\\appdata\\roaming\\python\\python313\\site-packages (from SQLAlchemy<3.0.0,>=1.4.0->langchain-community) (3.2.4)\n",
      "Requirement already satisfied: mypy-extensions>=0.3.0 in c:\\users\\visarati\\appdata\\roaming\\python\\python313\\site-packages (from typing-inspect<1,>=0.4.0->dataclasses-json<0.7.0,>=0.6.7->langchain-community) (1.1.0)\n",
      "Requirement already satisfied: sniffio>=1.1 in c:\\users\\visarati\\appdata\\roaming\\python\\python313\\site-packages (from anyio->httpx<1,>=0.23.0->langsmith<1.0.0,>=0.1.125->langchain-community) (1.3.1)\n",
      "Note: you may need to restart the kernel to use updated packages.\n"
     ]
    }
   ],
   "source": [
    "pip install -U langchain-community"
   ]
  },
  {
   "cell_type": "code",
   "execution_count": 4,
   "id": "0e9f334f-6254-4c18-9d39-9cc1ea4d27d3",
   "metadata": {
    "scrolled": true
   },
   "outputs": [
    {
     "name": "stdout",
     "output_type": "stream",
     "text": [
      "Defaulting to user installation because normal site-packages is not writeable\n",
      "Requirement already satisfied: langchain-ollama in c:\\users\\visarati\\appdata\\roaming\\python\\python313\\site-packages (0.3.8)\n",
      "Requirement already satisfied: ollama<1.0.0,>=0.5.3 in c:\\users\\visarati\\appdata\\roaming\\python\\python313\\site-packages (from langchain-ollama) (0.5.4)\n",
      "Requirement already satisfied: langchain-core<1.0.0,>=0.3.76 in c:\\users\\visarati\\appdata\\roaming\\python\\python313\\site-packages (from langchain-ollama) (0.3.76)\n",
      "Requirement already satisfied: langsmith>=0.3.45 in c:\\users\\visarati\\appdata\\roaming\\python\\python313\\site-packages (from langchain-core<1.0.0,>=0.3.76->langchain-ollama) (0.4.31)\n",
      "Requirement already satisfied: tenacity!=8.4.0,<10.0.0,>=8.1.0 in c:\\users\\visarati\\appdata\\roaming\\python\\python313\\site-packages (from langchain-core<1.0.0,>=0.3.76->langchain-ollama) (9.1.2)\n",
      "Requirement already satisfied: jsonpatch<2.0,>=1.33 in c:\\users\\visarati\\appdata\\roaming\\python\\python313\\site-packages (from langchain-core<1.0.0,>=0.3.76->langchain-ollama) (1.33)\n",
      "Requirement already satisfied: PyYAML>=5.3 in c:\\users\\visarati\\appdata\\roaming\\python\\python313\\site-packages (from langchain-core<1.0.0,>=0.3.76->langchain-ollama) (6.0.2)\n",
      "Requirement already satisfied: typing-extensions>=4.7 in c:\\users\\visarati\\appdata\\roaming\\python\\python313\\site-packages (from langchain-core<1.0.0,>=0.3.76->langchain-ollama) (4.13.2)\n",
      "Requirement already satisfied: packaging>=23.2 in c:\\users\\visarati\\appdata\\roaming\\python\\python313\\site-packages (from langchain-core<1.0.0,>=0.3.76->langchain-ollama) (25.0)\n",
      "Requirement already satisfied: pydantic>=2.7.4 in c:\\users\\visarati\\appdata\\roaming\\python\\python313\\site-packages (from langchain-core<1.0.0,>=0.3.76->langchain-ollama) (2.11.9)\n",
      "Requirement already satisfied: jsonpointer>=1.9 in c:\\users\\visarati\\appdata\\roaming\\python\\python313\\site-packages (from jsonpatch<2.0,>=1.33->langchain-core<1.0.0,>=0.3.76->langchain-ollama) (3.0.0)\n",
      "Requirement already satisfied: httpx>=0.27 in c:\\users\\visarati\\appdata\\roaming\\python\\python313\\site-packages (from ollama<1.0.0,>=0.5.3->langchain-ollama) (0.28.1)\n",
      "Requirement already satisfied: anyio in c:\\users\\visarati\\appdata\\roaming\\python\\python313\\site-packages (from httpx>=0.27->ollama<1.0.0,>=0.5.3->langchain-ollama) (4.9.0)\n",
      "Requirement already satisfied: certifi in c:\\users\\visarati\\appdata\\roaming\\python\\python313\\site-packages (from httpx>=0.27->ollama<1.0.0,>=0.5.3->langchain-ollama) (2025.4.26)\n",
      "Requirement already satisfied: httpcore==1.* in c:\\users\\visarati\\appdata\\roaming\\python\\python313\\site-packages (from httpx>=0.27->ollama<1.0.0,>=0.5.3->langchain-ollama) (1.0.9)\n",
      "Requirement already satisfied: idna in c:\\users\\visarati\\appdata\\roaming\\python\\python313\\site-packages (from httpx>=0.27->ollama<1.0.0,>=0.5.3->langchain-ollama) (3.10)\n",
      "Requirement already satisfied: h11>=0.16 in c:\\users\\visarati\\appdata\\roaming\\python\\python313\\site-packages (from httpcore==1.*->httpx>=0.27->ollama<1.0.0,>=0.5.3->langchain-ollama) (0.16.0)\n",
      "Requirement already satisfied: orjson>=3.9.14 in c:\\users\\visarati\\appdata\\roaming\\python\\python313\\site-packages (from langsmith>=0.3.45->langchain-core<1.0.0,>=0.3.76->langchain-ollama) (3.11.3)\n",
      "Requirement already satisfied: requests-toolbelt>=1.0.0 in c:\\users\\visarati\\appdata\\roaming\\python\\python313\\site-packages (from langsmith>=0.3.45->langchain-core<1.0.0,>=0.3.76->langchain-ollama) (1.0.0)\n",
      "Requirement already satisfied: requests>=2.0.0 in c:\\users\\visarati\\appdata\\roaming\\python\\python313\\site-packages (from langsmith>=0.3.45->langchain-core<1.0.0,>=0.3.76->langchain-ollama) (2.32.5)\n",
      "Requirement already satisfied: zstandard>=0.23.0 in c:\\users\\visarati\\appdata\\roaming\\python\\python313\\site-packages (from langsmith>=0.3.45->langchain-core<1.0.0,>=0.3.76->langchain-ollama) (0.25.0)\n",
      "Requirement already satisfied: annotated-types>=0.6.0 in c:\\users\\visarati\\appdata\\roaming\\python\\python313\\site-packages (from pydantic>=2.7.4->langchain-core<1.0.0,>=0.3.76->langchain-ollama) (0.7.0)\n",
      "Requirement already satisfied: pydantic-core==2.33.2 in c:\\users\\visarati\\appdata\\roaming\\python\\python313\\site-packages (from pydantic>=2.7.4->langchain-core<1.0.0,>=0.3.76->langchain-ollama) (2.33.2)\n",
      "Requirement already satisfied: typing-inspection>=0.4.0 in c:\\users\\visarati\\appdata\\roaming\\python\\python313\\site-packages (from pydantic>=2.7.4->langchain-core<1.0.0,>=0.3.76->langchain-ollama) (0.4.1)\n",
      "Requirement already satisfied: charset_normalizer<4,>=2 in c:\\users\\visarati\\appdata\\roaming\\python\\python313\\site-packages (from requests>=2.0.0->langsmith>=0.3.45->langchain-core<1.0.0,>=0.3.76->langchain-ollama) (3.4.2)\n",
      "Requirement already satisfied: urllib3<3,>=1.21.1 in c:\\users\\visarati\\appdata\\roaming\\python\\python313\\site-packages (from requests>=2.0.0->langsmith>=0.3.45->langchain-core<1.0.0,>=0.3.76->langchain-ollama) (2.4.0)\n",
      "Requirement already satisfied: sniffio>=1.1 in c:\\users\\visarati\\appdata\\roaming\\python\\python313\\site-packages (from anyio->httpx>=0.27->ollama<1.0.0,>=0.5.3->langchain-ollama) (1.3.1)\n",
      "Note: you may need to restart the kernel to use updated packages.\n"
     ]
    }
   ],
   "source": [
    "pip install --upgrade langchain-ollama"
   ]
  },
  {
   "cell_type": "code",
   "execution_count": 5,
   "id": "85300229-8682-42fc-915e-4fe4f1d21543",
   "metadata": {
    "scrolled": true
   },
   "outputs": [
    {
     "name": "stdout",
     "output_type": "stream",
     "text": [
      "Defaulting to user installation because normal site-packages is not writeable\n",
      "Requirement already satisfied: langchain-huggingface in c:\\users\\visarati\\appdata\\roaming\\python\\python313\\site-packages (0.3.1)\n",
      "Requirement already satisfied: langchain-core<1.0.0,>=0.3.70 in c:\\users\\visarati\\appdata\\roaming\\python\\python313\\site-packages (from langchain-huggingface) (0.3.76)\n",
      "Requirement already satisfied: tokenizers>=0.19.1 in c:\\users\\visarati\\appdata\\roaming\\python\\python313\\site-packages (from langchain-huggingface) (0.22.0)\n",
      "Requirement already satisfied: huggingface-hub>=0.33.4 in c:\\users\\visarati\\appdata\\roaming\\python\\python313\\site-packages (from langchain-huggingface) (0.34.4)\n",
      "Requirement already satisfied: langsmith>=0.3.45 in c:\\users\\visarati\\appdata\\roaming\\python\\python313\\site-packages (from langchain-core<1.0.0,>=0.3.70->langchain-huggingface) (0.4.31)\n",
      "Requirement already satisfied: tenacity!=8.4.0,<10.0.0,>=8.1.0 in c:\\users\\visarati\\appdata\\roaming\\python\\python313\\site-packages (from langchain-core<1.0.0,>=0.3.70->langchain-huggingface) (9.1.2)\n",
      "Requirement already satisfied: jsonpatch<2.0,>=1.33 in c:\\users\\visarati\\appdata\\roaming\\python\\python313\\site-packages (from langchain-core<1.0.0,>=0.3.70->langchain-huggingface) (1.33)\n",
      "Requirement already satisfied: PyYAML>=5.3 in c:\\users\\visarati\\appdata\\roaming\\python\\python313\\site-packages (from langchain-core<1.0.0,>=0.3.70->langchain-huggingface) (6.0.2)\n",
      "Requirement already satisfied: typing-extensions>=4.7 in c:\\users\\visarati\\appdata\\roaming\\python\\python313\\site-packages (from langchain-core<1.0.0,>=0.3.70->langchain-huggingface) (4.13.2)\n",
      "Requirement already satisfied: packaging>=23.2 in c:\\users\\visarati\\appdata\\roaming\\python\\python313\\site-packages (from langchain-core<1.0.0,>=0.3.70->langchain-huggingface) (25.0)\n",
      "Requirement already satisfied: pydantic>=2.7.4 in c:\\users\\visarati\\appdata\\roaming\\python\\python313\\site-packages (from langchain-core<1.0.0,>=0.3.70->langchain-huggingface) (2.11.9)\n",
      "Requirement already satisfied: jsonpointer>=1.9 in c:\\users\\visarati\\appdata\\roaming\\python\\python313\\site-packages (from jsonpatch<2.0,>=1.33->langchain-core<1.0.0,>=0.3.70->langchain-huggingface) (3.0.0)\n",
      "Requirement already satisfied: filelock in c:\\users\\visarati\\appdata\\roaming\\python\\python313\\site-packages (from huggingface-hub>=0.33.4->langchain-huggingface) (3.18.0)\n",
      "Requirement already satisfied: fsspec>=2023.5.0 in c:\\users\\visarati\\appdata\\roaming\\python\\python313\\site-packages (from huggingface-hub>=0.33.4->langchain-huggingface) (2025.3.0)\n",
      "Requirement already satisfied: requests in c:\\users\\visarati\\appdata\\roaming\\python\\python313\\site-packages (from huggingface-hub>=0.33.4->langchain-huggingface) (2.32.5)\n",
      "Requirement already satisfied: tqdm>=4.42.1 in c:\\users\\visarati\\appdata\\roaming\\python\\python313\\site-packages (from huggingface-hub>=0.33.4->langchain-huggingface) (4.67.1)\n",
      "Requirement already satisfied: httpx<1,>=0.23.0 in c:\\users\\visarati\\appdata\\roaming\\python\\python313\\site-packages (from langsmith>=0.3.45->langchain-core<1.0.0,>=0.3.70->langchain-huggingface) (0.28.1)\n",
      "Requirement already satisfied: orjson>=3.9.14 in c:\\users\\visarati\\appdata\\roaming\\python\\python313\\site-packages (from langsmith>=0.3.45->langchain-core<1.0.0,>=0.3.70->langchain-huggingface) (3.11.3)\n",
      "Requirement already satisfied: requests-toolbelt>=1.0.0 in c:\\users\\visarati\\appdata\\roaming\\python\\python313\\site-packages (from langsmith>=0.3.45->langchain-core<1.0.0,>=0.3.70->langchain-huggingface) (1.0.0)\n",
      "Requirement already satisfied: zstandard>=0.23.0 in c:\\users\\visarati\\appdata\\roaming\\python\\python313\\site-packages (from langsmith>=0.3.45->langchain-core<1.0.0,>=0.3.70->langchain-huggingface) (0.25.0)\n",
      "Requirement already satisfied: anyio in c:\\users\\visarati\\appdata\\roaming\\python\\python313\\site-packages (from httpx<1,>=0.23.0->langsmith>=0.3.45->langchain-core<1.0.0,>=0.3.70->langchain-huggingface) (4.9.0)\n",
      "Requirement already satisfied: certifi in c:\\users\\visarati\\appdata\\roaming\\python\\python313\\site-packages (from httpx<1,>=0.23.0->langsmith>=0.3.45->langchain-core<1.0.0,>=0.3.70->langchain-huggingface) (2025.4.26)\n",
      "Requirement already satisfied: httpcore==1.* in c:\\users\\visarati\\appdata\\roaming\\python\\python313\\site-packages (from httpx<1,>=0.23.0->langsmith>=0.3.45->langchain-core<1.0.0,>=0.3.70->langchain-huggingface) (1.0.9)\n",
      "Requirement already satisfied: idna in c:\\users\\visarati\\appdata\\roaming\\python\\python313\\site-packages (from httpx<1,>=0.23.0->langsmith>=0.3.45->langchain-core<1.0.0,>=0.3.70->langchain-huggingface) (3.10)\n",
      "Requirement already satisfied: h11>=0.16 in c:\\users\\visarati\\appdata\\roaming\\python\\python313\\site-packages (from httpcore==1.*->httpx<1,>=0.23.0->langsmith>=0.3.45->langchain-core<1.0.0,>=0.3.70->langchain-huggingface) (0.16.0)\n",
      "Requirement already satisfied: annotated-types>=0.6.0 in c:\\users\\visarati\\appdata\\roaming\\python\\python313\\site-packages (from pydantic>=2.7.4->langchain-core<1.0.0,>=0.3.70->langchain-huggingface) (0.7.0)\n",
      "Requirement already satisfied: pydantic-core==2.33.2 in c:\\users\\visarati\\appdata\\roaming\\python\\python313\\site-packages (from pydantic>=2.7.4->langchain-core<1.0.0,>=0.3.70->langchain-huggingface) (2.33.2)\n",
      "Requirement already satisfied: typing-inspection>=0.4.0 in c:\\users\\visarati\\appdata\\roaming\\python\\python313\\site-packages (from pydantic>=2.7.4->langchain-core<1.0.0,>=0.3.70->langchain-huggingface) (0.4.1)\n",
      "Requirement already satisfied: charset_normalizer<4,>=2 in c:\\users\\visarati\\appdata\\roaming\\python\\python313\\site-packages (from requests->huggingface-hub>=0.33.4->langchain-huggingface) (3.4.2)\n",
      "Requirement already satisfied: urllib3<3,>=1.21.1 in c:\\users\\visarati\\appdata\\roaming\\python\\python313\\site-packages (from requests->huggingface-hub>=0.33.4->langchain-huggingface) (2.4.0)\n",
      "Requirement already satisfied: colorama in c:\\users\\visarati\\appdata\\roaming\\python\\python313\\site-packages (from tqdm>=4.42.1->huggingface-hub>=0.33.4->langchain-huggingface) (0.4.6)\n",
      "Requirement already satisfied: sniffio>=1.1 in c:\\users\\visarati\\appdata\\roaming\\python\\python313\\site-packages (from anyio->httpx<1,>=0.23.0->langsmith>=0.3.45->langchain-core<1.0.0,>=0.3.70->langchain-huggingface) (1.3.1)\n",
      "Note: you may need to restart the kernel to use updated packages.\n"
     ]
    }
   ],
   "source": [
    "pip install --upgrade langchain-huggingface"
   ]
  },
  {
   "cell_type": "code",
   "execution_count": 6,
   "id": "99e39198-c498-48a1-be8a-951900a28717",
   "metadata": {},
   "outputs": [],
   "source": [
    "# Imports\n",
    "from pathlib import Path\n",
    "from langchain.document_loaders import PyPDFLoader\n",
    "from langchain.text_splitter import RecursiveCharacterTextSplitter\n",
    "from langchain.embeddings import SentenceTransformerEmbeddings\n",
    "from langchain.vectorstores import FAISS\n",
    "from langchain.llms import Ollama\n"
   ]
  },
  {
   "cell_type": "code",
   "execution_count": 7,
   "id": "2012e41e-d967-4473-b397-65019b3b76c9",
   "metadata": {},
   "outputs": [],
   "source": [
    "# Config\n",
    "from langchain_huggingface import HuggingFaceEmbeddings\n",
    "\n",
    "PDF_FOLDER = r\"C:\\Users\\visarati\\Desktop\\Notebooks\\pdfs\"    # <-- folder path, not file  # folder where PDFs are stored\n",
    "EMBEDDING_MODEL = \"sentence-transformers/all-MiniLM-L6-v2\"\n",
    "OLLAMA_MODEL = \"llama2\""
   ]
  },
  {
   "cell_type": "code",
   "execution_count": 8,
   "id": "63053f35-d7ca-4056-9a1b-c4e4dccf5950",
   "metadata": {},
   "outputs": [
    {
     "name": "stdout",
     "output_type": "stream",
     "text": [
      "Loaded 13 pages → split into 40 chunks\n"
     ]
    }
   ],
   "source": [
    "# Load and split PDF\n",
    "docs = []\n",
    "for pdf in Path(PDF_FOLDER).glob(\"*.pdf\"):\n",
    "    loader = PyPDFLoader(str(pdf))\n",
    "    docs.extend(loader.load())\n",
    "\n",
    "splitter = RecursiveCharacterTextSplitter(chunk_size=1000, chunk_overlap=200)\n",
    "chunks = splitter.split_documents(docs)\n",
    "\n",
    "print(f\"Loaded {len(docs)} pages → split into {len(chunks)} chunks\")\n"
   ]
  },
  {
   "cell_type": "code",
   "execution_count": 9,
   "id": "cdc9bb78-ebc5-4906-b9f4-1f4039ba4d60",
   "metadata": {},
   "outputs": [],
   "source": [
    "# Create FAISS index\n",
    "embedder = HuggingFaceEmbeddings(model_name=EMBEDDING_MODEL)\n",
    "vectorstore = FAISS.from_documents(chunks, embedder)"
   ]
  },
  {
   "cell_type": "code",
   "execution_count": 10,
   "id": "cdd790a2-a80a-4192-897d-daef607db8f5",
   "metadata": {},
   "outputs": [],
   "source": [
    "# Setup Ollama LLM\n",
    "from langchain_ollama import OllamaLLM\n",
    "\n",
    "llm = OllamaLLM(model=OLLAMA_MODEL)"
   ]
  },
  {
   "cell_type": "code",
   "execution_count": 11,
   "id": "dc561ab4-0704-4673-8cc2-3a82d9188130",
   "metadata": {},
   "outputs": [],
   "source": [
    "# Ask a question\n",
    "def answer_question(question, k=3, show_chunks=True):\n",
    "    # Retrieve top-k chunks\n",
    "    docs = vectorstore.similarity_search(question, k=k)\n",
    "    context = \"\\n\\n\".join([d.page_content for d in docs])\n",
    "\n",
    "    if show_chunks:\n",
    "        print(\"Retrieved chunks:\\n\")\n",
    "        for i, d in enumerate(docs):\n",
    "            print(f\"--- Chunk {i+1} ---\")\n",
    "            print(d.page_content[:300], \"...\\n\")  # show first 300 chars\n",
    "    \n",
    "    # Build prompt\n",
    "    prompt = f\"Answer the question based only on the context.\\n\\nContext:\\n{context}\\n\\nQuestion: {question}\\nAnswer:\"\n",
    "    \n",
    "    return llm(prompt)\n"
   ]
  },
  {
   "cell_type": "code",
   "execution_count": 13,
   "id": "ffbe7252-e890-4660-bf0c-8524200cf01b",
   "metadata": {},
   "outputs": [
    {
     "ename": "AttributeError",
     "evalue": "'function' object has no attribute 'invoke'",
     "output_type": "error",
     "traceback": [
      "\u001b[31m---------------------------------------------------------------------------\u001b[39m",
      "\u001b[31mAttributeError\u001b[39m                            Traceback (most recent call last)",
      "\u001b[36mCell\u001b[39m\u001b[36m \u001b[39m\u001b[32mIn[13]\u001b[39m\u001b[32m, line 2\u001b[39m\n\u001b[32m      1\u001b[39m \u001b[38;5;66;03m# Try it out\u001b[39;00m\n\u001b[32m----> \u001b[39m\u001b[32m2\u001b[39m answer = \u001b[43manswer_question\u001b[49m\u001b[43m.\u001b[49m\u001b[43minvoke\u001b[49m(\u001b[33m\"\u001b[39m\u001b[33mWhat is the theme of the document and how is the company using generative AI?\u001b[39m\u001b[33m\"\u001b[39m)\n\u001b[32m      3\u001b[39m \u001b[38;5;28mprint\u001b[39m(\u001b[33m\"\u001b[39m\u001b[38;5;130;01m\\n\u001b[39;00m\u001b[33m--- ANSWER ---\u001b[39m\u001b[38;5;130;01m\\n\u001b[39;00m\u001b[33m\"\u001b[39m)\n\u001b[32m      4\u001b[39m \u001b[38;5;28mprint\u001b[39m(answer)\n",
      "\u001b[31mAttributeError\u001b[39m: 'function' object has no attribute 'invoke'"
     ]
    }
   ],
   "source": [
    "# Try it out\n",
    "answer = answer_question.invoke(\"What is the theme of the document and how is the company using generative AI?\")\n",
    "print(\"\\n--- ANSWER ---\\n\")\n",
    "print(answer)"
   ]
  }
 ],
 "metadata": {
  "kernelspec": {
   "display_name": "Python 3 (ipykernel)",
   "language": "python",
   "name": "python3"
  },
  "language_info": {
   "codemirror_mode": {
    "name": "ipython",
    "version": 3
   },
   "file_extension": ".py",
   "mimetype": "text/x-python",
   "name": "python",
   "nbconvert_exporter": "python",
   "pygments_lexer": "ipython3",
   "version": "3.13.2"
  }
 },
 "nbformat": 4,
 "nbformat_minor": 5
}
